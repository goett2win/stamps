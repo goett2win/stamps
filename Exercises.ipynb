{
 "cells": [
  {
   "cell_type": "markdown",
   "metadata": {},
   "source": [
    "#Import modules and load the data"
   ]
  },
  {
   "cell_type": "code",
   "execution_count": 1,
   "metadata": {
    "collapsed": false
   },
   "outputs": [
    {
     "name": "stderr",
     "output_type": "stream",
     "text": [
      "/usr/local/lib/python2.7/dist-packages/setuptools-12.0.5-py2.7.egg/pkg_resources/__init__.py:1222: UserWarning: /home/knut/.python-eggs is writable by group/others and vulnerable to attack when used with get_resource_filename. Consider a more secure location (set with .set_extraction_path or the PYTHON_EGG_CACHE environment variable).\n"
     ]
    }
   ],
   "source": [
    "import pandas as pd # data handling library\n",
    "from mpl_toolkits.basemap import Basemap # world map\n",
    "import matplotlib.pyplot as plt # python plotting library\n",
    "import numpy as np # numerical python"
   ]
  },
  {
   "cell_type": "code",
   "execution_count": 2,
   "metadata": {
    "collapsed": false
   },
   "outputs": [],
   "source": [
    "# load cell coordinates\n",
    "cells = pd.read_csv('data/cell5m_allockey_xy.csv', sep=',', header=0)"
   ]
  },
  {
   "cell_type": "code",
   "execution_count": 3,
   "metadata": {
    "collapsed": true
   },
   "outputs": [],
   "source": [
    "# load spatially resolved harvested area\n",
    "spam = pd.read_csv('data/spam2005v2r0_harvested-area_wheat_total.csv', sep=',', header=0)\n",
    "spam_ethiopia = spam[spam.name_cntr=='Ethiopia'] # reduce to Ethiopia\n",
    "spam_ethiopia = spam_ethiopia.loc[:,['cell5m','whea']] # reduce #columns dimensions"
   ]
  },
  {
   "cell_type": "code",
   "execution_count": 4,
   "metadata": {
    "collapsed": false
   },
   "outputs": [],
   "source": [
    "# load historical national harvest data\n",
    "history = pd.read_csv('data/FAOSTAT_data_8-1-2017.csv', sep=',', header=0)\n",
    "history_ethiopia = history[(history.Area=='Ethiopia') | (history.Area=='Ethiopia PDR')] # reduce to Ethiopia"
   ]
  },
  {
   "cell_type": "markdown",
   "metadata": {},
   "source": [
    "#Translate cell numbers to x–y coordinates and assign harvest data"
   ]
  },
  {
   "cell_type": "code",
   "execution_count": 5,
   "metadata": {
    "collapsed": false
   },
   "outputs": [
    {
     "name": "stdout",
     "output_type": "stream",
     "text": [
      "this might take a while\n",
      "1000 / 4651\n",
      "2000 / 4651\n",
      "3000 / 4651\n",
      "4000 / 4651\n",
      "done\n"
     ]
    }
   ],
   "source": [
    "# Get x-y coordinates from cell number (takes a while)\n",
    "X = np.zeros(len(spam_ethiopia)) # vector for longitudes\n",
    "Y = np.zeros(len(spam_ethiopia)) # vector for latitudes\n",
    "C = np.zeros(len(spam_ethiopia)) # vector for harvest data [ha]\n",
    "\n",
    "k=0 # iteration variable\n",
    "N = len(spam_ethiopia)\n",
    "\n",
    "print \"this might take a while\"\n",
    "for index, row in spam_ethiopia.iterrows(): # iterate over rows in SPAM data\n",
    "    coordinates = cells[cells.hc_seq5m==row['cell5m']] # find coordinates for each cell\n",
    "    X[k] = coordinates['x'].item()\n",
    "    Y[k] = coordinates['y'].item()\n",
    "    C[k] = row['whea'].item() # get harvest data\n",
    "    k+=1\n",
    "    if k%1000==0: # show progress\n",
    "        print k,\"/\",N\n",
    "print \"done\""
   ]
  },
  {
   "cell_type": "markdown",
   "metadata": {},
   "source": [
    "#Downscaling of the national data and consistency check"
   ]
  },
  {
   "cell_type": "code",
   "execution_count": 6,
   "metadata": {
    "collapsed": false
   },
   "outputs": [
    {
     "name": "stdout",
     "output_type": "stream",
     "text": [
      "FAO: 2014: 1663845.0 \t2005: 1398215.0\n",
      "SPAM: 2005: 1318884.4\n",
      "downscaled 2014: 1663845.0\n",
      "\n",
      "Downscaling consitent with FAO data.\n"
     ]
    }
   ],
   "source": [
    "# harvest in 2014 according to FAO data\n",
    "harv_2014_fao = history_ethiopia[history_ethiopia.Year == 2014].Value.item()\n",
    "harv_2005_fao = history_ethiopia[history_ethiopia.Year == 2005].Value.item()\n",
    "\n",
    "# total harvest in 2005 according to SPAM data\n",
    "harv_2005_spam = spam_ethiopia['whea'].sum()\n",
    "\n",
    "scaling_factor = harv_2014_fao/harv_2005_spam # ratio of harvest in 2014 and 2005\n",
    "\n",
    "D = C*scaling_factor # multiply every harvest value from 2005 by the scaling factor above\n",
    "                     # so that the total harvest fits the one of 2014\n",
    "\n",
    "harv_2014_downscaled = D.sum() # total harvest of downscaled data\n",
    "\n",
    "# comparison of the dofferent data sources:\n",
    "\n",
    "print \"FAO:\", \"2014:\", harv_2014_fao, \"\\t2005:\", harv_2005_fao\n",
    "print \"SPAM:\", \"2005:\", harv_2005_spam\n",
    "print \"downscaled 2014:\", harv_2014_downscaled\n",
    "\n",
    "# check whether downscaled data is consistent with FAO (it is by construction)\n",
    "if harv_2014_fao==harv_2014_downscaled: \n",
    "    print \"\\nDownscaling consitent with FAO data.\"\n",
    "else:\n",
    "    print \"\\nDownscaling inconsistent!\"        "
   ]
  },
  {
   "cell_type": "markdown",
   "metadata": {},
   "source": [
    "#Plot for exercise 1"
   ]
  },
  {
   "cell_type": "code",
   "execution_count": 46,
   "metadata": {
    "collapsed": false
   },
   "outputs": [],
   "source": [
    "# Plotting Ex. 1\n",
    "\n",
    "#draw the border of ethiopia using latitude and longitude)\n",
    "plt.figure()\n",
    "my_map = Basemap(projection='merc', lat_0=57, lon_0=-135,\n",
    "    resolution = 'l', area_thresh = 1000.0,\n",
    "    llcrnrlon=30.25, llcrnrlat=0,\n",
    "    urcrnrlon=50.25, urcrnrlat=15)\n",
    " \n",
    "my_map.drawcoastlines()\n",
    "my_map.drawcountries()\n",
    "my_map.drawmapboundary()\n",
    "\n",
    "# Use the coordinates (X,Y) and wheat production (D) to draw a color coded map.\n",
    "my_map.scatter(X, Y, latlon = True, c=D, cmap='YlOrRd', marker='s', s=8)\n",
    "plt.title(\"Downscaled wheat production of Ethiopia in 2014\")\n",
    "plt.colorbar(label='wheat production in ha')\n",
    "#plt.savefig(\"exercise1.pdf\", dpi=600, bbox_inches=\"tight\")\n",
    "plt.show()"
   ]
  },
  {
   "cell_type": "markdown",
   "metadata": {},
   "source": [
    "#Plot for exercise 2"
   ]
  },
  {
   "cell_type": "code",
   "execution_count": 47,
   "metadata": {
    "collapsed": false
   },
   "outputs": [],
   "source": [
    "# Plotting Ex. 2\n",
    "\n",
    "plt.figure()\n",
    "history_sorted = history_ethiopia.sort_values(by='Year') # sort data by year\n",
    "\n",
    "plt.plot(history_sorted.Year,history_sorted.Value, \"o-\") # plot historical data\n",
    "\n",
    "plt.title(\"Annual wheat production of Ethiopia according to FAO\")\n",
    "plt.xlabel(\"year\")\n",
    "plt.ylabel(\"wheat production in ha\")\n",
    "plt.axvline(x=1974, ls=\"--\")\n",
    "plt.axvline(x=1991, ls=\"--\")\n",
    "plt.text(1960,1200000,\"Haile Selassie I\")\n",
    "plt.text(1980,900000,\"Derg era\")\n",
    "plt.text(1995,600000,\"Fed. Dem. Rep.\")\n",
    "#plt.savefig(\"exercise2.pdf\", dpi=300, bbox_inches=\"tight\")\n",
    "plt.show()"
   ]
  },
  {
   "cell_type": "code",
   "execution_count": 43,
   "metadata": {
    "collapsed": true
   },
   "outputs": [],
   "source": []
  },
  {
   "cell_type": "code",
   "execution_count": null,
   "metadata": {
    "collapsed": true
   },
   "outputs": [],
   "source": []
  }
 ],
 "metadata": {
  "kernelspec": {
   "display_name": "Python 2",
   "language": "python",
   "name": "python2"
  },
  "language_info": {
   "codemirror_mode": {
    "name": "ipython",
    "version": 2
   },
   "file_extension": ".py",
   "mimetype": "text/x-python",
   "name": "python",
   "nbconvert_exporter": "python",
   "pygments_lexer": "ipython2",
   "version": "2.7.6"
  }
 },
 "nbformat": 4,
 "nbformat_minor": 0
}
